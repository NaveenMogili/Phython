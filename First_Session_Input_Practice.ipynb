{
 "cells": [
  {
   "cell_type": "code",
   "execution_count": 2,
   "metadata": {},
   "outputs": [
    {
     "name": "stdout",
     "output_type": "stream",
     "text": [
      "what is your age34\n",
      "34\n"
     ]
    }
   ],
   "source": [
    "name=input('what is your age')\n",
    "print(name)"
   ]
  },
  {
   "cell_type": "code",
   "execution_count": 4,
   "metadata": {},
   "outputs": [
    {
     "name": "stdout",
     "output_type": "stream",
     "text": [
      "What is your name\n",
      "Naveen\n",
      "Welcom  Naveen\n"
     ]
    }
   ],
   "source": [
    "name=input('What is your name\\n')\n",
    "print(\"Welcom \",name)"
   ]
  },
  {
   "cell_type": "code",
   "execution_count": 6,
   "metadata": {},
   "outputs": [
    {
     "data": {
      "text/plain": [
       "str"
      ]
     },
     "execution_count": 6,
     "metadata": {},
     "output_type": "execute_result"
    }
   ],
   "source": [
    "type(name)"
   ]
  },
  {
   "cell_type": "code",
   "execution_count": 10,
   "metadata": {},
   "outputs": [
    {
     "name": "stdout",
     "output_type": "stream",
     "text": [
      "enter your age34\n",
      "Your age after 3 years will be  37\n",
      "Type you entered  <class 'int'>\n"
     ]
    }
   ],
   "source": [
    "age=int(input('enter your age'))+3\n",
    "print('Your age after 3 years will be ',age)\n",
    "print('Type you entered ',type(age))"
   ]
  },
  {
   "cell_type": "code",
   "execution_count": 12,
   "metadata": {},
   "outputs": [
    {
     "name": "stdout",
     "output_type": "stream",
     "text": [
      "enter your previous salary1000\n",
      "Hike got in the current year500\n",
      "Current salary  1500\n"
     ]
    }
   ],
   "source": [
    "salary=int(input('enter your previous salary'))\n",
    "Hike = int(input('Hike got in the current year'))\n",
    "print ('Current salary ' ,salary+Hike)\n"
   ]
  },
  {
   "cell_type": "code",
   "execution_count": 15,
   "metadata": {},
   "outputs": [
    {
     "name": "stdout",
     "output_type": "stream",
     "text": [
      "Please enter number to find square root2.4\n",
      "cube of given number is  13.824\n"
     ]
    }
   ],
   "source": [
    "num=eval(input('Please enter number to find square root'))\n",
    "print('cube of given number is ',num*num*num)"
   ]
  },
  {
   "cell_type": "code",
   "execution_count": 17,
   "metadata": {},
   "outputs": [
    {
     "name": "stdout",
     "output_type": "stream",
     "text": [
      "Enter first value10.2\n",
      "Enter second value10.3\n",
      "Enter third value10.4\n",
      "Total of given three values is  30.9\n",
      "Average of given three values is  10.299999999999999\n"
     ]
    }
   ],
   "source": [
    "num1=eval(input('Enter first value'))\n",
    "num2=eval(input('Enter second value'))\n",
    "num3=eval(input('Enter third value'))\n",
    "Total=num1+num2+num3\n",
    "Avg= Total/3\n",
    "print('Total of given three values is ',Total)\n",
    "print('Average of given three values is ',Avg)"
   ]
  },
  {
   "cell_type": "code",
   "execution_count": 19,
   "metadata": {},
   "outputs": [
    {
     "name": "stdout",
     "output_type": "stream",
     "text": [
      "Enter your basic salary20000\n",
      "Total Salary is  25500.0\n"
     ]
    }
   ],
   "source": [
    "Basic_sal=eval(input('Enter your basic salary'))\n",
    "hra=Basic_sal*0.1\n",
    "conv=3500\n",
    "print('Total Salary is ',Basic_sal+hra+conv)"
   ]
  },
  {
   "cell_type": "code",
   "execution_count": 20,
   "metadata": {},
   "outputs": [
    {
     "name": "stdout",
     "output_type": "stream",
     "text": [
      "123-282 value is  -159\n",
      "47.34+23 value is  70.34\n"
     ]
    }
   ],
   "source": [
    "print('123-282 value is ',123-282)\n",
    "print('47.34+23 value is ',47.34+23)"
   ]
  },
  {
   "cell_type": "code",
   "execution_count": null,
   "metadata": {},
   "outputs": [],
   "source": []
  }
 ],
 "metadata": {
  "kernelspec": {
   "display_name": "Python 3",
   "language": "python",
   "name": "python3"
  },
  "language_info": {
   "codemirror_mode": {
    "name": "ipython",
    "version": 3
   },
   "file_extension": ".py",
   "mimetype": "text/x-python",
   "name": "python",
   "nbconvert_exporter": "python",
   "pygments_lexer": "ipython3",
   "version": "3.7.3"
  }
 },
 "nbformat": 4,
 "nbformat_minor": 2
}
